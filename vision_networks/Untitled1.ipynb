{
 "cells": [
  {
   "cell_type": "code",
   "execution_count": 41,
   "metadata": {},
   "outputs": [],
   "source": [
    "n_reservoir = 3\n",
    "n_inputs = 2\n",
    "\n",
    "\n",
    "S = np.ones((n_reservoir,1))\n",
    "S[0,0] = 1\n",
    "\n",
    "W = np.zeros((n_reservoir,n_reservoir))\n",
    "W[0,1] = 1\n",
    "\n",
    "\n",
    "I = np.zeros((n_inputs,1))\n",
    "I[0,0] = 1#\n",
    "\n",
    "WInputs = np.zeros((n_reservoir,n_inputs))"
   ]
  },
  {
   "cell_type": "code",
   "execution_count": 42,
   "metadata": {},
   "outputs": [
    {
     "data": {
      "text/plain": [
       "array([[1.],\n",
       "       [0.],\n",
       "       [0.]])"
      ]
     },
     "execution_count": 42,
     "metadata": {},
     "output_type": "execute_result"
    }
   ],
   "source": [
    "pre = np.dot(W,S) + np.dot(WInputs, I)\n",
    "pre"
   ]
  },
  {
   "cell_type": "code",
   "execution_count": 43,
   "metadata": {},
   "outputs": [],
   "source": [
    "output = np.tanh(pre)"
   ]
  },
  {
   "cell_type": "code",
   "execution_count": 44,
   "metadata": {},
   "outputs": [
    {
     "data": {
      "text/plain": [
       "array([[0.76159416],\n",
       "       [0.        ],\n",
       "       [0.        ]])"
      ]
     },
     "execution_count": 44,
     "metadata": {},
     "output_type": "execute_result"
    }
   ],
   "source": [
    "output"
   ]
  },
  {
   "cell_type": "code",
   "execution_count": null,
   "metadata": {},
   "outputs": [],
   "source": [
    "import networkx as nx\n",
    "\n",
    "class SimpleESN():\n",
    "    def __init__(self,n_inputs=1,n_reservoir=1):\n",
    "        self.n_inputs = n_inputs\n",
    "        self.n_reservoir = n_reservoir\n",
    "        \n",
    "        self.S = np.zeros((n_reservoir,1))\n",
    "\n",
    "        self.W = np.zeros((n_reservoir,n_reservoir))\n",
    "\n",
    "        self.I = np.zeros((n_inputs,1))\n",
    "\n",
    "        self.WInputs = np.zeros((n_reservoir,n_inputs))\n",
    "        \n",
    "    def _update(self):\n",
    "        preactivation = np.dot(self.W,self.S) + np.dot(self.WInputs, self.I)\n",
    "        activation = np.tanh(preactivation)\n",
    "        return activation\n",
    "        \n",
    "\n",
    "        \n",
    "class GraphESN():\n",
    "    def __init__(self, esn):\n",
    "        self.G = nx.DiGraph()\n",
    "        \n",
    "        # Add nodes\n",
    "        for n in np.arange(esn.S.shape[0]):\n",
    "            self.G.add_node(n)\n",
    "\n",
    "        # Add Connections:\n",
    "        for n in np.arange(esn.W.shape[0]):\n",
    "            for m in np.arange(esn.W.shape[1]):\n",
    "                if esn.W[n,m] != 0:\n",
    "                    self.G.add_edge(n,m,weight = esn.W[n,m])\n",
    "                    print \"%s x %s = %s\" %(n,m,esn.W[n,m])\n",
    "                else:\n",
    "                    print \"%s x %s = %s\" %(n,m,esn.W[n,m])\n",
    "                    \n",
    "                    \n",
    "                \n",
    "\n",
    "                \n",
    "                \n",
    "                \n",
    "                \n",
    "            \n",
    "x = SimpleESN(2,2)\n",
    "x.W = -(np.eye(2,2)-1)\n",
    "\n",
    "g = GraphESN(x)\n",
    "nx.draw(g.G)\n",
    "plt.show()\n",
    "\n",
    "g.G.edges()\n",
    "x.W"
   ]
  },
  {
   "cell_type": "code",
   "execution_count": null,
   "metadata": {},
   "outputs": [],
   "source": []
  },
  {
   "cell_type": "code",
   "execution_count": null,
   "metadata": {},
   "outputs": [],
   "source": [
    "x = SimpleESN(2,2)\n",
    "print x.S.shape\n",
    "\n",
    "x.W = np.ones(x.W.shape)\n",
    "x.I = np.ones(x.I.shape) * 0.1\n",
    "x.WInputs = np.ones(x.WInputs.shape)\n",
    "\n",
    "s= []\n",
    "\n",
    "for i in np.arange(100):\n",
    "    x.S = x._update()\n",
    "    s.append(x.S)\n",
    "    \n",
    "plt.plot(np.array(s).flatten())\n",
    "plt.show()"
   ]
  },
  {
   "cell_type": "code",
   "execution_count": null,
   "metadata": {},
   "outputs": [],
   "source": [
    "#x.S\n",
    "x._update()"
   ]
  },
  {
   "cell_type": "code",
   "execution_count": null,
   "metadata": {},
   "outputs": [],
   "source": []
  },
  {
   "cell_type": "code",
   "execution_count": 28,
   "metadata": {},
   "outputs": [
    {
     "data": {
      "text/plain": [
       "array([0.2, 0.2])"
      ]
     },
     "execution_count": 28,
     "metadata": {},
     "output_type": "execute_result"
    }
   ],
   "source": [
    "np.dot(x.I,x.WInputs)"
   ]
  },
  {
   "cell_type": "code",
   "execution_count": null,
   "metadata": {},
   "outputs": [],
   "source": []
  }
 ],
 "metadata": {
  "kernelspec": {
   "display_name": "Python 2",
   "language": "python",
   "name": "python2"
  },
  "language_info": {
   "codemirror_mode": {
    "name": "ipython",
    "version": 2
   },
   "file_extension": ".py",
   "mimetype": "text/x-python",
   "name": "python",
   "nbconvert_exporter": "python",
   "pygments_lexer": "ipython2",
   "version": "2.7.13"
  }
 },
 "nbformat": 4,
 "nbformat_minor": 2
}
