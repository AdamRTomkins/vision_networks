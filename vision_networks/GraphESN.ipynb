{
 "cells": [
  {
   "cell_type": "code",
   "execution_count": 1,
   "metadata": {},
   "outputs": [],
   "source": [
    "n_reservoir = 3\n",
    "n_inputs = 2\n",
    "\n",
    "\n",
    "S = np.ones((n_reservoir,1))\n",
    "S[0,0] = 1\n",
    "\n",
    "W = np.zeros((n_reservoir,n_reservoir))\n",
    "W[0,1] = 1\n",
    "\n",
    "\n",
    "I = np.zeros((n_inputs,1))\n",
    "I[0,0] = 1#\n",
    "\n",
    "WInputs = np.zeros((n_reservoir,n_inputs))"
   ]
  },
  {
   "cell_type": "code",
   "execution_count": 2,
   "metadata": {},
   "outputs": [
    {
     "data": {
      "text/plain": [
       "array([[1.],\n",
       "       [0.],\n",
       "       [0.]])"
      ]
     },
     "execution_count": 2,
     "metadata": {},
     "output_type": "execute_result"
    }
   ],
   "source": [
    "pre = np.dot(W,S) + np.dot(WInputs, I)\n",
    "pre"
   ]
  },
  {
   "cell_type": "code",
   "execution_count": 3,
   "metadata": {},
   "outputs": [],
   "source": [
    "output = np.tanh(pre)"
   ]
  },
  {
   "cell_type": "code",
   "execution_count": 4,
   "metadata": {},
   "outputs": [
    {
     "data": {
      "text/plain": [
       "array([[0.76159416],\n",
       "       [0.        ],\n",
       "       [0.        ]])"
      ]
     },
     "execution_count": 4,
     "metadata": {},
     "output_type": "execute_result"
    }
   ],
   "source": [
    "output"
   ]
  },
  {
   "cell_type": "code",
   "execution_count": 23,
   "metadata": {},
   "outputs": [],
   "source": [
    "import networkx as nx\n",
    "\n",
    "class SimpleESN():\n",
    "    def __init__(self,n_inputs=1,n_reservoir=1):\n",
    "        self.n_inputs = n_inputs\n",
    "        self.n_reservoir = n_reservoir\n",
    "        \n",
    "        self.S = np.zeros((n_reservoir,1))\n",
    "        self.states = [self.S[:,0]]\n",
    "        \n",
    "        self.W = np.zeros((n_reservoir,n_reservoir))\n",
    "\n",
    "        self.I = np.zeros((n_inputs,1))\n",
    "\n",
    "        self.WInputs = np.zeros((n_reservoir,n_inputs))\n",
    "        \n",
    "    def _update(self):\n",
    "        preactivation = np.dot(self.W,self.S) + np.dot(self.WInputs, self.I)\n",
    "        activation = np.tanh(preactivation)\n",
    "        assert activation.shape == self.S.shape\n",
    "        self.S = activation\n",
    "        self.states.append(self.S[:,0])\n",
    "        return self.S\n",
    "        \n",
    "\n",
    "        \n",
    "class GraphESN():\n",
    "    def __init__(self, esn, inputs = []):\n",
    "        self.G = nx.DiGraph()\n",
    "            \n",
    "        # Add nodes\n",
    "        for n in np.arange(esn.S.shape[0]):\n",
    "            self.G.add_node(n)\n",
    "            self.G.node[n]['state'] = 0\n",
    "    \n",
    "        # Add Connections:\n",
    "        for n in np.arange(esn.W.shape[0]):\n",
    "            for m in np.arange(esn.W.shape[1]):\n",
    "                if esn.W[n,m] != 0:\n",
    "                    self.G.add_edge(n,m,weight = esn.W[m,n])\n",
    "                    #print \"%s x %s = %s\" %(n,m,esn.W[n,m])\n",
    "                #else:\n",
    "                    #print \"%s x %s = %s\" %(n,m,esn.W[n,m])\n",
    "\n",
    "        # process inputs\n",
    "        self.n_inputs =  esn.n_inputs\n",
    "        self.inputs = []\n",
    "\n",
    "        # for every input, create a dictionary\n",
    "        for i in np.arange(self.n_inputs):\n",
    "            value = esn.I[i]\n",
    "            an_input = {}\n",
    "\n",
    "            for n in self.G.nodes():\n",
    "                an_input[n] = {'value' :value,\n",
    "                               'weight': esn.WInputs[n,i]}\n",
    "\n",
    "            # for every node:\n",
    "                #if there is a weight assocated with the current input,\n",
    "                \n",
    "                # add both the weight and the input value to the dictionary\n",
    "            \n",
    "            self.inputs.append(an_input)\n",
    "\n",
    "                    \n",
    "        self.states = [[self.G.node[n]['state'] for n in self.G.nodes()]]\n",
    "                    \n",
    "    def _update(self):\n",
    "        # For every node:\n",
    "        step_state = {}\n",
    "        \n",
    "        for n in self.G.nodes():\n",
    "            # For every incoming edge\n",
    "            new_state = 0\n",
    "            \n",
    "            # Synaptic Input\n",
    "            for pre,post in g.G.in_edges(n):\n",
    "                \n",
    "                # activation = activation + w*s\n",
    "                new_state += self.G.edge[pre][post]['weight'] * self.G.node[pre]['state']\n",
    "                \n",
    "                \n",
    "            # Injeted Input\n",
    "            for i in self.inputs:\n",
    "                if n in i.keys():\n",
    "                \n",
    "                    new_state += i[n]['value'] * i[n]['weight']\n",
    "                \n",
    "                \n",
    "            step_state[n] = np.tanh(new_state)\n",
    "        for k in step_state.keys():\n",
    "            self.G.node[k]['state'] = step_state[k]\n",
    "        \n",
    "        self.states.append( [self.G.node[n]['state'][0] for n in self.G.nodes()])\n",
    "        \n",
    "        return self.states[-1]\n",
    "              \n",
    " "
   ]
  },
  {
   "cell_type": "code",
   "execution_count": 25,
   "metadata": {},
   "outputs": [
    {
     "data": {
      "image/png": "[encoded data removed]",
      "text/plain": [
       "<matplotlib.figure.Figure at 0x7ff94c541190>"
      ]
     },
     "metadata": {},
     "output_type": "display_data"
    }
   ],
   "source": [
    "n_inputs = 2        \n",
    "n_reservoir = 3\n",
    "n_steps = 10\n",
    "\n",
    "rand = True\n",
    "\n",
    "x = SimpleESN(n_inputs,n_reservoir)\n",
    "\n",
    "\n",
    "if rand:\n",
    "    x.W = 2*np.random.rand(x.W.shape[0],x.W.shape[1])-1\n",
    "    x.I = 2*np.random.rand(x.I.shape[0],x.I.shape[1])-1\n",
    "    x.WInputs = 2*np.random.rand(x.WInputs.shape[0],x.WInputs.shape[1])-1\n",
    "    #x.WInputs = np.zeros(x.WInputs.shape) * 0.1\n",
    "    #x.WInputs[1,0] = 0.3\n",
    "    #x.W = -(np.eye(n_reservoir,n_reservoir)-1) * 0.1\n",
    "   \n",
    "else:\n",
    "    x.W = -(np.eye(n_reservoir,n_reservoir)-1) * 0.1\n",
    "    \n",
    "    x.I = np.zeros(x.I.shape)\n",
    "    x.I[0,0] = 0.1\n",
    "    x.I[1,0] = 0.3\n",
    "    \n",
    "    x.WInputs = np.zeros(x.WInputs.shape) * 0.1\n",
    "    x.WInputs[1,0] = 0.3\n",
    "\n",
    "\n",
    "# Create Graph based ESN\n",
    "g = GraphESN(x)\n",
    "\n",
    "for i in np.arange(n_steps):\n",
    "    g._update()\n",
    "    x._update()\n",
    "\n",
    "   \n",
    "plt.plot(np.array(x.states),'r:o')\n",
    "plt.plot(np.array(g.states),'g-')\n",
    "plt.show()"
   ]
  },
  {
   "cell_type": "code",
   "execution_count": null,
   "metadata": {},
   "outputs": [],
   "source": []
  },
  {
   "cell_type": "code",
   "execution_count": null,
   "metadata": {},
   "outputs": [],
   "source": []
  }
 ],
 "metadata": {
  "kernelspec": {
   "display_name": "Python 2",
   "language": "python",
   "name": "python2"
  },
  "language_info": {
   "codemirror_mode": {
    "name": "ipython",
    "version": 2
   },
   "file_extension": ".py",
   "mimetype": "text/x-python",
   "name": "python",
   "nbconvert_exporter": "python",
   "pygments_lexer": "ipython2",
   "version": "2.7.13"
  }
 },
 "nbformat": 4,
 "nbformat_minor": 2
}
